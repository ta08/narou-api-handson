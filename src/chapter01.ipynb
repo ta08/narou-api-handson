{
 "cells": [
  {
   "cell_type": "markdown",
   "metadata": {
    "toc": true
   },
   "source": [
    "<h1>Table of Contents<span class=\"tocSkip\"></span></h1>\n",
    "<div class=\"toc\"><ul class=\"toc-item\"><li><span><a href=\"#Purpose\" data-toc-modified-id=\"Purpose-1\"><span class=\"toc-item-num\">1&nbsp;&nbsp;</span>Purpose</a></span></li><li><span><a href=\"#Prepare-Data-from-WebAPI\" data-toc-modified-id=\"Prepare-Data-from-WebAPI-2\"><span class=\"toc-item-num\">2&nbsp;&nbsp;</span>Prepare Data from WebAPI</a></span></li><li><span><a href=\"#Morphological-Analysis\" data-toc-modified-id=\"Morphological-Analysis-3\"><span class=\"toc-item-num\">3&nbsp;&nbsp;</span>Morphological Analysis</a></span></li><li><span><a href=\"#Visualization\" data-toc-modified-id=\"Visualization-4\"><span class=\"toc-item-num\">4&nbsp;&nbsp;</span>Visualization</a></span><ul class=\"toc-item\"><li><span><a href=\"#Generating-WordCloud\" data-toc-modified-id=\"Generating-WordCloud-4.1\"><span class=\"toc-item-num\">4.1&nbsp;&nbsp;</span>Generating WordCloud</a></span></li><li><span><a href=\"#Features-of-Morphological-Analysis\" data-toc-modified-id=\"Features-of-Morphological-Analysis-4.2\"><span class=\"toc-item-num\">4.2&nbsp;&nbsp;</span>Features of Morphological Analysis</a></span></li></ul></li><li><span><a href=\"#Conclusion\" data-toc-modified-id=\"Conclusion-5\"><span class=\"toc-item-num\">5&nbsp;&nbsp;</span>Conclusion</a></span></li></ul></div>"
   ]
  },
  {
   "cell_type": "markdown",
   "metadata": {},
   "source": [
    "# Purpose"
   ]
  },
  {
   "cell_type": "markdown",
   "metadata": {},
   "source": [
    "This shows how to handle Japanese with a probable use case.\n",
    "The use case is to fetch data from WebAPI and to process them, then visualize the results.\n",
    "So the following will be described.\n",
    "\n",
    "* Get json data from WebAPI\n",
    "* Confirm real world responses from WebAPI\n",
    "* Tokenize Japanese with Morphological Analyzer\n",
    "* Visualize characteristic words with generating WordCloud and Graph\n",
    "\n",
    "As a first step, this notebook does not dig down each steps. "
   ]
  },
  {
   "cell_type": "markdown",
   "metadata": {},
   "source": [
    "# Prepare Data from WebAPI"
   ]
  },
  {
   "cell_type": "code",
   "execution_count": 1,
   "metadata": {},
   "outputs": [],
   "source": [
    "import requests\n",
    "\n",
    "# API Document: https://dev.syosetu.com/man/api/\n",
    "NAROU_API_URL = \"https://api.syosetu.com/novelapi/api\"\n",
    "payload = {'out': \"json\",\n",
    "           'lim': 100}\n",
    "\n",
    "response = requests.get(NAROU_API_URL, payload)"
   ]
  },
  {
   "cell_type": "code",
   "execution_count": 2,
   "metadata": {},
   "outputs": [
    {
     "data": {
      "text/plain": [
       "[{'allcount': 677151},\n",
       " {'title': 'じゃじゃ馬ピッピの初恋事件簿（天才＋秀才＝バカップル？）',\n",
       "  'ncode': 'N4228FC',\n",
       "  'userid': 1305716,\n",
       "  'writer': '李\\u3000熒惑',\n",
       "  'story': '\\u3000私の名は寛永寺理英、九州の北の端っこに住んでいる中学２年生。進級して早々、片思いしてる相手に告白をしたらフラれちゃって、少し落ち込んでたんだ。でも、そのことがきっかけで周りの物事が動き始めたの。それまで単なる同級生としてしか認識してこなかった男の子に強引な告白をされて、断る理由も無かったからつき合ってみたら、これまで退屈で平凡だと思っていた日常が、実はそうでもなかったことに気がついたの。それは、今まで物事を深く洞察してこなかったことで知らなかったことや、周囲の大人たちの努力で知らずに済んでいたことで、徐々に私の目にも入るようになって来たんだ。それは彼と付き合い始めたことで、自分の視野が広がったのか、それとも違う視点から物事を見ることができるようになったからなのか、は分からないんだけど・・・でも、そのせいで次々といろんな事件や事故に遭遇することも多くなったわ。それに伴って、不愉快な出来事に遭遇してそれを解決したり、不思議に思ったことを解き明かしたりもしてきたの。これは、そんな私が中学２年生として過ごした１年間の記録です。',\n",
       "  'biggenre': 3,\n",
       "  'genre': 304,\n",
       "  'gensaku': '',\n",
       "  'keyword': 'スクールラブ ミステリー サスペンス 青春ミステリー 歴史ミステリー 暗号ミステリー',\n",
       "  'general_firstup': '2018-11-03 14:17:47',\n",
       "  'general_lastup': '2019-09-01 18:26:03',\n",
       "  'novel_type': 1,\n",
       "  'end': 1,\n",
       "  'general_all_no': 8,\n",
       "  'length': 177637,\n",
       "  'time': 356,\n",
       "  'isstop': 0,\n",
       "  'isr15': 0,\n",
       "  'isbl': 0,\n",
       "  'isgl': 0,\n",
       "  'iszankoku': 0,\n",
       "  'istensei': 0,\n",
       "  'istenni': 0,\n",
       "  'pc_or_k': 2,\n",
       "  'global_point': 6,\n",
       "  'daily_point': 0,\n",
       "  'weekly_point': 6,\n",
       "  'monthly_point': 6,\n",
       "  'quarter_point': 6,\n",
       "  'yearly_point': 6,\n",
       "  'fav_novel_cnt': 0,\n",
       "  'impression_cnt': 0,\n",
       "  'review_cnt': 0,\n",
       "  'all_point': 6,\n",
       "  'all_hyoka_cnt': 1,\n",
       "  'sasie_cnt': 0,\n",
       "  'kaiwaritu': 66,\n",
       "  'novelupdated_at': '2019-09-01 18:26:03',\n",
       "  'updated_at': '2019-09-01 18:28:14'},\n",
       " {'title': 'いざ、参る【刀剣乱舞】',\n",
       "  'ncode': 'N6143FS',\n",
       "  'userid': 1716739,\n",
       "  'writer': 'コタツ虫',\n",
       "  'story': '40手前のおっさんが過去を行き来し敵と闘うッ！！そんな感じの小説。処女作なので広い心で、温かい目で見てください。\\nよろしくお願いします。\\nこの作品はpixivでも投稿しております。アカウントは「コタツ虫」、作品名は同じです。',\n",
       "  'biggenre': 99,\n",
       "  'genre': 9999,\n",
       "  'gensaku': '',\n",
       "  'keyword': '二次創作 刀剣乱舞 とうらぶ 男主 男審神者',\n",
       "  'general_firstup': '2019-09-01 18:17:33',\n",
       "  'general_lastup': '2019-09-01 18:25:53',\n",
       "  'novel_type': 1,\n",
       "  'end': 1,\n",
       "  'general_all_no': 2,\n",
       "  'length': 1005,\n",
       "  'time': 3,\n",
       "  'isstop': 0,\n",
       "  'isr15': 0,\n",
       "  'isbl': 0,\n",
       "  'isgl': 0,\n",
       "  'iszankoku': 0,\n",
       "  'istensei': 0,\n",
       "  'istenni': 0,\n",
       "  'pc_or_k': 2,\n",
       "  'global_point': 0,\n",
       "  'daily_point': 0,\n",
       "  'weekly_point': 0,\n",
       "  'monthly_point': 0,\n",
       "  'quarter_point': 0,\n",
       "  'yearly_point': 0,\n",
       "  'fav_novel_cnt': 0,\n",
       "  'impression_cnt': 0,\n",
       "  'review_cnt': 0,\n",
       "  'all_point': 0,\n",
       "  'all_hyoka_cnt': 0,\n",
       "  'sasie_cnt': 0,\n",
       "  'kaiwaritu': 17,\n",
       "  'novelupdated_at': '2019-09-01 18:25:53',\n",
       "  'updated_at': '2019-09-01 18:28:13'}]"
      ]
     },
     "execution_count": 2,
     "metadata": {},
     "output_type": "execute_result"
    }
   ],
   "source": [
    "response.json()[:3]"
   ]
  },
  {
   "cell_type": "code",
   "execution_count": 3,
   "metadata": {},
   "outputs": [],
   "source": [
    "texts = [novel['story'] for novel in response.json()[1:]]"
   ]
  },
  {
   "cell_type": "markdown",
   "metadata": {},
   "source": [
    "Check converted data. It contains \\u3000 but do not be worried. \\u3000 represents a full-width space.\n",
    "The following helps to understand this meaning."
   ]
  },
  {
   "cell_type": "code",
   "execution_count": 4,
   "metadata": {},
   "outputs": [
    {
     "data": {
      "text/plain": [
       "['\\u3000私の名は寛永寺理英、九州の北の端っこに住んでいる中学２年生。進級して早々、片思いしてる相手に告白をしたらフラれちゃって、少し落ち込んでたんだ。でも、そのことがきっかけで周りの物事が動き始めたの。それまで単なる同級生としてしか認識してこなかった男の子に強引な告白をされて、断る理由も無かったからつき合ってみたら、これまで退屈で平凡だと思っていた日常が、実はそうでもなかったことに気がついたの。それは、今まで物事を深く洞察してこなかったことで知らなかったことや、周囲の大人たちの努力で知らずに済んでいたことで、徐々に私の目にも入るようになって来たんだ。それは彼と付き合い始めたことで、自分の視野が広がったのか、それとも違う視点から物事を見ることができるようになったからなのか、は分からないんだけど・・・でも、そのせいで次々といろんな事件や事故に遭遇することも多くなったわ。それに伴って、不愉快な出来事に遭遇してそれを解決したり、不思議に思ったことを解き明かしたりもしてきたの。これは、そんな私が中学２年生として過ごした１年間の記録です。',\n",
       " '40手前のおっさんが過去を行き来し敵と闘うッ！！そんな感じの小説。処女作なので広い心で、温かい目で見てください。\\nよろしくお願いします。\\nこの作品はpixivでも投稿しております。アカウントは「コタツ虫」、作品名は同じです。']"
      ]
     },
     "execution_count": 4,
     "metadata": {},
     "output_type": "execute_result"
    }
   ],
   "source": [
    "texts[:2]"
   ]
  },
  {
   "cell_type": "code",
   "execution_count": 5,
   "metadata": {},
   "outputs": [
    {
     "data": {
      "text/plain": [
       "['\\u3000私の名は寛永寺理英、九州の北の端っこに住んでいる中学２年生。進級して早々、片思いしてる相手に告白をしたらフラれちゃって、少し落ち込んでたんだ。でも、そのことがきっかけで周りの物事が動き始めたの。それまで単なる同級生としてしか認識してこなかった男の子に強引な告白をされて、断る理由も無かったからつき合ってみたら、これまで退屈で平凡だと思っていた日常が、実はそうでもなかったことに気がついたの。それは、今まで物事を深く洞察してこなかったことで知らなかったことや、周囲の大人たちの努力で知らずに済んでいたことで、徐々に私の目にも入るようになって来たんだ。それは彼と付き合い始めたことで、自分の視野が広がったのか、それとも違う視点から物事を見ることができるようになったからなのか、は分からないんだけど・・・でも、そのせいで次々といろんな事件や事故に遭遇することも多くなったわ。それに伴って、不愉快な出来事に遭遇してそれを解決したり、不思議に思ったことを解き明かしたりもしてきたの。これは、そんな私が中学２年生として過ごした１年間の記録です。',\n",
       " '\\u3000田中二郎は前世の記憶を持って異世界ヴィーボルグに転生する。\\n\\n\\u3000ヴィーボルグは魔物が跋扈し、常に戦乱の絶えない波乱の世界であり、魔法のような特別な力を使うには生まれつき持ったスキルが必要な世界であった。\\n\\n\\u3000そんなハードな世界に転生した田中二郎だが、転生時に神のガイダンスはなく、与えられたスキルも&quot;最弱&quot;の魔物であるスライムを使役するハズレスキルのみ。\\n\\u3000さらには孤児院からスタートというハードモード。\\n\\u3000その孤児院の土地も高利貸しに狙われ、幼くして奴隷へと落ちる。\\n\\n\\u3000そんな田中二郎が世界最強の魔導師となるまでの話。']"
      ]
     },
     "execution_count": 5,
     "metadata": {},
     "output_type": "execute_result"
    }
   ],
   "source": [
    "[text for text in texts if \"　\" in text][:2]"
   ]
  },
  {
   "cell_type": "code",
   "execution_count": 6,
   "metadata": {},
   "outputs": [
    {
     "data": {
      "text/plain": [
       "[]"
      ]
     },
     "execution_count": 6,
     "metadata": {},
     "output_type": "execute_result"
    }
   ],
   "source": [
    "[text for text in texts if \"u3000\" in text][:2]"
   ]
  },
  {
   "cell_type": "markdown",
   "metadata": {},
   "source": [
    "Here in above, there is no problem about \\u3000. And this \\u3000 will be removed by Morphological Analysis. "
   ]
  },
  {
   "cell_type": "markdown",
   "metadata": {},
   "source": [
    "# Morphological Analysis"
   ]
  },
  {
   "cell_type": "markdown",
   "metadata": {},
   "source": [
    "Morphological Analysis is a way of tokenizing Japanese Language. \n",
    "https://en.wikipedia.org/wiki/Morphological_analysis_(problem-solving)\n",
    "Not only Japanese language, but also languages which have no word divider.\n",
    "\n",
    "In this notebook, I'll use `janome` which is a Japanese Morphological Analysis for python.\n",
    "`Mecab` provided by Kyoto University is used as the conventional method of Tokenizing Japanese.\n",
    "But Mecab is a bit hard to prepare and to use for beginner of engineer, so an alternative way, I propose a pure python library, `janome`. `janome` does not require to install your pc like Mecab."
   ]
  },
  {
   "cell_type": "code",
   "execution_count": 7,
   "metadata": {},
   "outputs": [],
   "source": [
    "from janome.tokenizer import Tokenizer\n",
    "from janome.analyzer import Analyzer\n",
    "from janome.tokenfilter import POSKeepFilter\n",
    "from janome.tokenfilter import CompoundNounFilter\n",
    "from janome.tokenfilter import LowerCaseFilter\n",
    "\n",
    "\n",
    "tokenizer = Tokenizer()\n",
    "token_filters = [CompoundNounFilter(), POSKeepFilter([\"名詞\"]),\n",
    "                 LowerCaseFilter()]\n",
    "analyzer = Analyzer(tokenizer=tokenizer, token_filters=token_filters)\n",
    "\n",
    "def analyze(analyzer: Analyzer, text: str):\n",
    "    return [(x.surface, x.part_of_speech) for x in analyzer.analyze(text)]\n",
    "\n",
    "\n",
    "from functools import partial\n",
    "\n",
    "custom_analyze = partial(analyze, analyzer)"
   ]
  },
  {
   "cell_type": "code",
   "execution_count": 8,
   "metadata": {},
   "outputs": [
    {
     "data": {
      "text/plain": [
       "[('大変!\\u3000ts聖女', '名詞,複合,*,*')]"
      ]
     },
     "execution_count": 8,
     "metadata": {},
     "output_type": "execute_result"
    }
   ],
   "source": [
    "custom_analyze('大変!\\u3000ts聖女')"
   ]
  },
  {
   "cell_type": "markdown",
   "metadata": {},
   "source": [
    "This is an unexpected result. We want to remove full-space, \\u3000.\n",
    "So we need `UnicodeNormalizeCharFilter`.\n",
    "Let's redefine the analyzer with using `UnicodeNormalizeCharFilter`."
   ]
  },
  {
   "cell_type": "code",
   "execution_count": 9,
   "metadata": {},
   "outputs": [],
   "source": [
    "from janome.charfilter import UnicodeNormalizeCharFilter\n",
    "\n",
    "\n",
    "tokenizer = Tokenizer()\n",
    "char_filters = [UnicodeNormalizeCharFilter()]\n",
    "token_filters = [CompoundNounFilter(), POSKeepFilter([\"名詞\"]),\n",
    "                 LowerCaseFilter()]\n",
    "\n",
    "analyzer = Analyzer(tokenizer=tokenizer, char_filters=char_filters, token_filters=token_filters)\n",
    "\n",
    "\n",
    "def analyze(analyzer: Analyzer, text: str):\n",
    "    return [(x.surface, x.part_of_speech) for x in analyzer.analyze(text)]"
   ]
  },
  {
   "cell_type": "code",
   "execution_count": 10,
   "metadata": {},
   "outputs": [],
   "source": [
    "from functools import partial\n",
    "\n",
    "custom_analyze = partial(analyze, analyzer)"
   ]
  },
  {
   "cell_type": "code",
   "execution_count": 11,
   "metadata": {},
   "outputs": [
    {
     "data": {
      "text/plain": [
       "[('大変!', '名詞,複合,*,*'), ('ts聖女', '名詞,複合,*,*')]"
      ]
     },
     "execution_count": 11,
     "metadata": {},
     "output_type": "execute_result"
    }
   ],
   "source": [
    "custom_analyze('大変!\\u3000ts聖女')"
   ]
  },
  {
   "cell_type": "markdown",
   "metadata": {},
   "source": [
    "Ok, this is a good result we expected."
   ]
  },
  {
   "cell_type": "code",
   "execution_count": 12,
   "metadata": {},
   "outputs": [],
   "source": [
    "tokenized_texts = list(map(custom_analyze, texts))"
   ]
  },
  {
   "cell_type": "markdown",
   "metadata": {},
   "source": [
    "Then, we got pairs of a surface and a part of speech each novels.\n",
    "We already define which part of speech should be described. \n",
    "So a part of speech only `名詞` remains."
   ]
  },
  {
   "cell_type": "code",
   "execution_count": 13,
   "metadata": {},
   "outputs": [
    {
     "data": {
      "text/plain": [
       "[[('私', '名詞,代名詞,一般,*'),\n",
       "  ('名', '名詞,一般,*,*'),\n",
       "  ('寛永寺理英', '名詞,複合,*,*'),\n",
       "  ('九州', '名詞,固有名詞,地域,一般'),\n",
       "  ('北', '名詞,一般,*,*'),\n",
       "  ('端っこ', '名詞,一般,*,*'),\n",
       "  ('中学2年生', '名詞,複合,*,*'),\n",
       "  ('進級', '名詞,サ変接続,*,*'),\n",
       "  ('片思い', '名詞,サ変接続,*,*'),\n",
       "  ('相手', '名詞,一般,*,*'),\n",
       "  ('告白', '名詞,サ変接続,*,*'),\n",
       "  ('フラ', '名詞,一般,*,*'),\n",
       "  ('たん', '名詞,一般,*,*'),\n",
       "  ('こと', '名詞,非自立,一般,*'),\n",
       "  ('きっかけ', '名詞,一般,*,*'),\n",
       "  ('周り', '名詞,一般,*,*'),\n",
       "  ('物事', '名詞,一般,*,*'),\n",
       "  ('それ', '名詞,代名詞,一般,*'),\n",
       "  ('同級生', '名詞,一般,*,*'),\n",
       "  ('認識', '名詞,サ変接続,*,*'),\n",
       "  ('男の子', '名詞,一般,*,*'),\n",
       "  ('強引', '名詞,形容動詞語幹,*,*'),\n",
       "  ('告白', '名詞,サ変接続,*,*'),\n",
       "  ('理由', '名詞,一般,*,*'),\n",
       "  ('これ', '名詞,代名詞,一般,*'),\n",
       "  ('退屈', '名詞,サ変接続,*,*'),\n",
       "  ('平凡', '名詞,形容動詞語幹,*,*'),\n",
       "  ('日常', '名詞,一般,*,*'),\n",
       "  ('こと', '名詞,非自立,一般,*'),\n",
       "  ('それ', '名詞,代名詞,一般,*'),\n",
       "  ('今', '名詞,副詞可能,*,*'),\n",
       "  ('物事', '名詞,一般,*,*'),\n",
       "  ('洞察', '名詞,サ変接続,*,*'),\n",
       "  ('こと', '名詞,非自立,一般,*'),\n",
       "  ('こと', '名詞,非自立,一般,*'),\n",
       "  ('周囲', '名詞,一般,*,*'),\n",
       "  ('大人たち', '名詞,複合,*,*'),\n",
       "  ('努力', '名詞,サ変接続,*,*'),\n",
       "  ('こと', '名詞,非自立,一般,*'),\n",
       "  ('私', '名詞,代名詞,一般,*'),\n",
       "  ('目', '名詞,一般,*,*'),\n",
       "  ('よう', '名詞,非自立,助動詞語幹,*'),\n",
       "  ('ん', '名詞,非自立,一般,*'),\n",
       "  ('それ', '名詞,代名詞,一般,*'),\n",
       "  ('彼', '名詞,代名詞,一般,*'),\n",
       "  ('こと', '名詞,非自立,一般,*'),\n",
       "  ('自分', '名詞,一般,*,*'),\n",
       "  ('視野', '名詞,一般,*,*'),\n",
       "  ('の', '名詞,非自立,一般,*'),\n",
       "  ('視点', '名詞,一般,*,*'),\n",
       "  ('物事', '名詞,一般,*,*'),\n",
       "  ('こと', '名詞,非自立,一般,*'),\n",
       "  ('よう', '名詞,非自立,助動詞語幹,*'),\n",
       "  ('の', '名詞,非自立,一般,*'),\n",
       "  ('ん', '名詞,非自立,一般,*'),\n",
       "  ('せい', '名詞,非自立,一般,*'),\n",
       "  ('事件', '名詞,一般,*,*'),\n",
       "  ('事故', '名詞,一般,*,*'),\n",
       "  ('遭遇', '名詞,サ変接続,*,*'),\n",
       "  ('こと', '名詞,非自立,一般,*'),\n",
       "  ('それ', '名詞,代名詞,一般,*'),\n",
       "  ('不愉快', '名詞,形容動詞語幹,*,*'),\n",
       "  ('出来事', '名詞,一般,*,*'),\n",
       "  ('遭遇', '名詞,サ変接続,*,*'),\n",
       "  ('それ', '名詞,代名詞,一般,*'),\n",
       "  ('解決', '名詞,サ変接続,*,*'),\n",
       "  ('不思議', '名詞,形容動詞語幹,*,*'),\n",
       "  ('こと', '名詞,非自立,一般,*'),\n",
       "  ('これ', '名詞,代名詞,一般,*'),\n",
       "  ('私', '名詞,代名詞,一般,*'),\n",
       "  ('中学2年生', '名詞,複合,*,*'),\n",
       "  ('1年間', '名詞,複合,*,*'),\n",
       "  ('記録', '名詞,サ変接続,*,*')],\n",
       " [('40手前', '名詞,複合,*,*'),\n",
       "  ('おっさん', '名詞,一般,*,*'),\n",
       "  ('過去', '名詞,副詞可能,*,*'),\n",
       "  ('行き来', '名詞,サ変接続,*,*'),\n",
       "  ('敵', '名詞,一般,*,*'),\n",
       "  ('ッ!!', '名詞,複合,*,*'),\n",
       "  ('感じ', '名詞,一般,*,*'),\n",
       "  ('小説', '名詞,一般,*,*'),\n",
       "  ('処女作', '名詞,複合,*,*'),\n",
       "  ('心', '名詞,一般,*,*'),\n",
       "  ('目', '名詞,一般,*,*'),\n",
       "  ('お願い', '名詞,サ変接続,*,*'),\n",
       "  ('作品', '名詞,一般,*,*'),\n",
       "  ('pixiv', '名詞,一般,*,*'),\n",
       "  ('投稿', '名詞,サ変接続,*,*'),\n",
       "  ('アカウント', '名詞,一般,*,*'),\n",
       "  ('コタツ虫', '名詞,複合,*,*'),\n",
       "  ('作品名', '名詞,複合,*,*')],\n",
       " [('人間', '名詞,一般,*,*'), ('自由', '名詞,形容動詞語幹,*,*')],\n",
       " [('時代', '名詞,一般,*,*'),\n",
       "  ('江戸時代後期', '名詞,複合,*,*'),\n",
       "  ('現代', '名詞,一般,*,*'),\n",
       "  ('女性', '名詞,一般,*,*'),\n",
       "  ('桂小五郎(後', '名詞,複合,*,*'),\n",
       "  ('木戸孝允)', '名詞,複合,*,*'),\n",
       "  ('人生', '名詞,一般,*,*'),\n",
       "  ('中心', '名詞,一般,*,*'),\n",
       "  ('薩長', '名詞,一般,*,*'),\n",
       "  ('志士', '名詞,一般,*,*'),\n",
       "  ('新選組', '名詞,複合,*,*'),\n",
       "  ('周囲', '名詞,一般,*,*'),\n",
       "  ('人々', '名詞,一般,*,*'),\n",
       "  ('人生', '名詞,一般,*,*'),\n",
       "  ('小説', '名詞,一般,*,*'),\n",
       "  ('時代', '名詞,一般,*,*'),\n",
       "  ('狭間', '名詞,一般,*,*'),\n",
       "  ('志', '名詞,一般,*,*'),\n",
       "  ('すべて', '名詞,副詞可能,*,*'),\n",
       "  ('男達', '名詞,複合,*,*'),\n",
       "  ('人生', '名詞,一般,*,*'),\n",
       "  ('それ', '名詞,代名詞,一般,*'),\n",
       "  ('女', '名詞,一般,*,*'),\n",
       "  ('人生', '名詞,一般,*,*'),\n",
       "  ('落ち着き', '名詞,一般,*,*'),\n",
       "  ('小説', '名詞,一般,*,*'),\n",
       "  ('登場人物それぞれ', '名詞,複合,*,*'),\n",
       "  ('主人公', '名詞,一般,*,*'),\n",
       "  ('小説', '名詞,一般,*,*'),\n",
       "  ('場面', '名詞,一般,*,*'),\n",
       "  ('物語', '名詞,一般,*,*'),\n",
       "  ('語り部', '名詞,複合,*,*'),\n",
       "  ('目線', '名詞,一般,*,*'),\n",
       "  ('江戸', '名詞,固有名詞,地域,一般'),\n",
       "  ('生活', '名詞,サ変接続,*,*'),\n",
       "  ('<青年編>、京', '名詞,複合,*,*'),\n",
       "  ('活動', '名詞,サ変接続,*,*'),\n",
       "  ('<動乱編>、明治', '名詞,複合,*,*'),\n",
       "  ('生活', '名詞,サ変接続,*,*'),\n",
       "  ('<明治編>', '名詞,複合,*,*'),\n",
       "  ('三部', '名詞,複合,*,*'),\n",
       "  ('構成', '名詞,サ変接続,*,*'),\n",
       "  ('大幅', '名詞,形容動詞語幹,*,*'),\n",
       "  ('湾曲', '名詞,サ変接続,*,*'),\n",
       "  ('つもり', '名詞,非自立,一般,*'),\n",
       "  ('小説', '名詞,一般,*,*'),\n",
       "  ('史実', '名詞,一般,*,*'),\n",
       "  ('忠実', '名詞,形容動詞語幹,*,*'),\n",
       "  ('作品', '名詞,一般,*,*'),\n",
       "  ('希望', '名詞,サ変接続,*,*'),\n",
       "  ('方', '名詞,非自立,一般,*'),\n",
       "  ('作品', '名詞,一般,*,*'),\n",
       "  ('アメブロ', '名詞,一般,*,*'),\n",
       "  ('掲載', '名詞,サ変接続,*,*'),\n",
       "  ('https://ameblo.jp/torimoto-kyou/entry-12268928376.html', '名詞,複合,*,*')],\n",
       " [('田中二郎', '名詞,複合,*,*'),\n",
       "  ('前世', '名詞,一般,*,*'),\n",
       "  ('記憶', '名詞,サ変接続,*,*'),\n",
       "  ('世界ヴィーボルグ', '名詞,複合,*,*'),\n",
       "  ('転生', '名詞,サ変接続,*,*'),\n",
       "  ('ヴィーボルグ', '名詞,一般,*,*'),\n",
       "  ('魔物', '名詞,一般,*,*'),\n",
       "  ('跋扈', '名詞,サ変接続,*,*'),\n",
       "  ('戦乱', '名詞,一般,*,*'),\n",
       "  ('波乱', '名詞,一般,*,*'),\n",
       "  ('世界', '名詞,一般,*,*'),\n",
       "  ('魔法', '名詞,一般,*,*'),\n",
       "  ('よう', '名詞,非自立,助動詞語幹,*'),\n",
       "  ('特別', '名詞,形容動詞語幹,*,*'),\n",
       "  ('力', '名詞,一般,*,*'),\n",
       "  ('スキル', '名詞,一般,*,*'),\n",
       "  ('必要', '名詞,形容動詞語幹,*,*'),\n",
       "  ('世界', '名詞,一般,*,*'),\n",
       "  ('ハード', '名詞,形容動詞語幹,*,*'),\n",
       "  ('世界', '名詞,一般,*,*'),\n",
       "  ('転生', '名詞,サ変接続,*,*'),\n",
       "  ('田中二郎', '名詞,複合,*,*'),\n",
       "  ('転生時', '名詞,複合,*,*'),\n",
       "  ('神', '名詞,一般,*,*'),\n",
       "  ('ガイダンス', '名詞,一般,*,*'),\n",
       "  ('スキル', '名詞,一般,*,*'),\n",
       "  ('&quot;', '名詞,複合,*,*'),\n",
       "  ('&quot;', '名詞,複合,*,*'),\n",
       "  ('魔物', '名詞,一般,*,*'),\n",
       "  ('スライム', '名詞,一般,*,*'),\n",
       "  ('使役', '名詞,サ変接続,*,*'),\n",
       "  ('ハズレスキル', '名詞,複合,*,*'),\n",
       "  ('孤児院', '名詞,複合,*,*'),\n",
       "  ('スタート', '名詞,サ変接続,*,*'),\n",
       "  ('ハードモード', '名詞,複合,*,*'),\n",
       "  ('孤児院', '名詞,複合,*,*'),\n",
       "  ('土地', '名詞,一般,*,*'),\n",
       "  ('高利貸し', '名詞,一般,*,*'),\n",
       "  ('奴隷', '名詞,一般,*,*'),\n",
       "  ('田中二郎', '名詞,複合,*,*'),\n",
       "  ('世界最強', '名詞,複合,*,*'),\n",
       "  ('魔導師', '名詞,複合,*,*'),\n",
       "  ('話', '名詞,サ変接続,*,*')]]"
      ]
     },
     "execution_count": 13,
     "metadata": {},
     "output_type": "execute_result"
    }
   ],
   "source": [
    "tokenized_texts[:5]"
   ]
  },
  {
   "cell_type": "markdown",
   "metadata": {},
   "source": [
    "Next we flatten the list to make it easy to handle them."
   ]
  },
  {
   "cell_type": "code",
   "execution_count": 14,
   "metadata": {},
   "outputs": [],
   "source": [
    "from itertools import chain\n",
    "\n",
    "\n",
    "chain.from_iterable(tokenized_texts)\n",
    "words = list(chain.from_iterable(tokenized_texts))"
   ]
  },
  {
   "cell_type": "code",
   "execution_count": 15,
   "metadata": {},
   "outputs": [
    {
     "data": {
      "text/plain": [
       "[('私', '名詞,代名詞,一般,*'),\n",
       " ('名', '名詞,一般,*,*'),\n",
       " ('寛永寺理英', '名詞,複合,*,*'),\n",
       " ('九州', '名詞,固有名詞,地域,一般'),\n",
       " ('北', '名詞,一般,*,*'),\n",
       " ('端っこ', '名詞,一般,*,*'),\n",
       " ('中学2年生', '名詞,複合,*,*'),\n",
       " ('進級', '名詞,サ変接続,*,*'),\n",
       " ('片思い', '名詞,サ変接続,*,*'),\n",
       " ('相手', '名詞,一般,*,*')]"
      ]
     },
     "execution_count": 15,
     "metadata": {},
     "output_type": "execute_result"
    }
   ],
   "source": [
    "words[:10]"
   ]
  },
  {
   "cell_type": "markdown",
   "metadata": {},
   "source": [
    "And now, there should be no spaces, \\u3000. Let's check it."
   ]
  },
  {
   "cell_type": "code",
   "execution_count": 16,
   "metadata": {},
   "outputs": [
    {
     "data": {
      "text/plain": [
       "[]"
      ]
     },
     "execution_count": 16,
     "metadata": {},
     "output_type": "execute_result"
    }
   ],
   "source": [
    "[surface for surface, _ in words if \"　\" in surface]"
   ]
  },
  {
   "cell_type": "code",
   "execution_count": 17,
   "metadata": {},
   "outputs": [
    {
     "data": {
      "text/plain": [
       "['大人たち', '人間', '人生', '人々', '人生', '人生', '人生', '登場人物それぞれ', '主人公', '人々']"
      ]
     },
     "execution_count": 17,
     "metadata": {},
     "output_type": "execute_result"
    }
   ],
   "source": [
    "[surface for surface, _ in words if \"人\" in surface][:10]"
   ]
  },
  {
   "cell_type": "markdown",
   "metadata": {},
   "source": [
    "The next chapter, we will visualize words with WordCloud and matplotlib.\n",
    "So, we convert data like below."
   ]
  },
  {
   "cell_type": "code",
   "execution_count": 18,
   "metadata": {},
   "outputs": [],
   "source": [
    "# instead of TokenCounterFilter, collections.Counter can be used\n",
    "# https://mocobeta.github.io/janome/#analyzer-v0-3-5\n",
    "from collections import Counter\n",
    "surface_counter = Counter(x[0] for x in words)"
   ]
  },
  {
   "cell_type": "markdown",
   "metadata": {},
   "source": [
    "# Visualization"
   ]
  },
  {
   "cell_type": "markdown",
   "metadata": {},
   "source": [
    "## Generating WordCloud"
   ]
  },
  {
   "cell_type": "markdown",
   "metadata": {},
   "source": [
    "We already learn how to fetch data from webAPI and to process data with Morphological Analysis.\n",
    "In this section, we will learn how to visualize the results.\n",
    "The first visualization is a wordcloud, the second visualization is a graph of features of words."
   ]
  },
  {
   "cell_type": "code",
   "execution_count": 19,
   "metadata": {},
   "outputs": [],
   "source": [
    "from matplotlib import pyplot as plt\n",
    "from wordcloud import WordCloud\n",
    "# %matplotlib inline\n",
    "\n",
    "wordcloud = WordCloud(width=800, height=400,\n",
    "                      font_path=\"/System/Library/Fonts/Hiragino Sans GB.ttc\")"
   ]
  },
  {
   "cell_type": "code",
   "execution_count": 20,
   "metadata": {
    "scrolled": true
   },
   "outputs": [
    {
     "data": {
      "text/plain": [
       "<matplotlib.image.AxesImage at 0x11c2f8d68>"
      ]
     },
     "execution_count": 20,
     "metadata": {},
     "output_type": "execute_result"
    },
    {
     "data": {
      "image/png": "[encoded data removed]",
      "text/plain": [
       "<Figure size 432x288 with 1 Axes>"
      ]
     },
     "metadata": {
      "needs_background": "light"
     },
     "output_type": "display_data"
    }
   ],
   "source": [
    "plt.imshow(wordcloud.generate_from_frequencies(surface_counter))"
   ]
  },
  {
   "cell_type": "markdown",
   "metadata": {},
   "source": [
    "## Features of Morphological Analysis"
   ]
  },
  {
   "cell_type": "code",
   "execution_count": 21,
   "metadata": {},
   "outputs": [
    {
     "data": {
      "text/plain": [
       "[('世界', 98),\n",
       " ('の', 81),\n",
       " ('こと', 75),\n",
       " ('!', 43),\n",
       " ('彼', 34),\n",
       " ('物語', 28),\n",
       " ('それ', 27),\n",
       " ('ため', 26),\n",
       " ('彼女', 26),\n",
       " ('作品', 24)]"
      ]
     },
     "execution_count": 21,
     "metadata": {},
     "output_type": "execute_result"
    },
    {
     "data": {
      "image/png": "[encoded data removed]",
      "text/plain": [
       "<Figure size 432x288 with 1 Axes>"
      ]
     },
     "metadata": {
      "needs_background": "light"
     },
     "output_type": "display_data"
    }
   ],
   "source": [
    "num_of_bins = 10\n",
    "plt.hist(surface_counter.values(), log=True, bins=num_of_bins)\n",
    "surface_counter.most_common(10)"
   ]
  },
  {
   "cell_type": "code",
   "execution_count": 22,
   "metadata": {},
   "outputs": [
    {
     "data": {
      "text/plain": [
       "<BarContainer object of 10 artists>"
      ]
     },
     "execution_count": 22,
     "metadata": {},
     "output_type": "execute_result"
    },
    {
     "data": {
      "image/png": "[encoded data removed]",
      "text/plain": [
       "<Figure size 432x288 with 1 Axes>"
      ]
     },
     "metadata": {
      "needs_background": "light"
     },
     "output_type": "display_data"
    }
   ],
   "source": [
    "surfaces, frequencies = zip(*surface_counter.most_common(10))\n",
    "plt.barh(surfaces, frequencies)"
   ]
  },
  {
   "cell_type": "code",
   "execution_count": 23,
   "metadata": {},
   "outputs": [
    {
     "data": {
      "text/plain": [
       "<BarContainer object of 10 artists>"
      ]
     },
     "execution_count": 23,
     "metadata": {},
     "output_type": "execute_result"
    },
    {
     "data": {
      "image/png": "[encoded data removed]",
      "text/plain": [
       "<Figure size 432x288 with 1 Axes>"
      ]
     },
     "metadata": {
      "needs_background": "light"
     },
     "output_type": "display_data"
    }
   ],
   "source": [
    "part_of_speech_counter = Counter(x[1] for x in words)\n",
    "part_of_speeches, frequencies = zip(*part_of_speech_counter.most_common(10))\n",
    "plt.barh(part_of_speeches, frequencies)"
   ]
  },
  {
   "cell_type": "markdown",
   "metadata": {},
   "source": [
    "# Conclusion"
   ]
  },
  {
   "cell_type": "markdown",
   "metadata": {},
   "source": [
    "We roughly learn Japanese NLP with a use case. At first, we learn how to fetch novels data. The second, hot to tokenize Japanese. The last, visualization with the results.  "
   ]
  },
  {
   "cell_type": "markdown",
   "metadata": {},
   "source": [
    "I did not explain details. For example in improving NLP, prepare stopwords list, or using TF-IDF as stopwords and so on."
   ]
  },
  {
   "cell_type": "markdown",
   "metadata": {},
   "source": [
    "\n",
    "So next notebook will focus on fetch data from narou-api.\n",
    "Narou-api does not support cursor and so on. It means it makes difficult to fetch entire data. It needs to change many detailed queries to fetch entire data properly.  (narou-api at 2019-08-18)\n",
    "\n"
   ]
  }
 ],
 "metadata": {
  "kernelspec": {
   "display_name": "Python 3",
   "language": "python",
   "name": "python3"
  },
  "language_info": {
   "codemirror_mode": {
    "name": "ipython",
    "version": 3
   },
   "file_extension": ".py",
   "mimetype": "text/x-python",
   "name": "python",
   "nbconvert_exporter": "python",
   "pygments_lexer": "ipython3",
   "version": "3.7.1"
  },
  "toc": {
   "base_numbering": 1,
   "nav_menu": {},
   "number_sections": true,
   "sideBar": true,
   "skip_h1_title": false,
   "title_cell": "Table of Contents",
   "title_sidebar": "Contents",
   "toc_cell": true,
   "toc_position": {},
   "toc_section_display": true,
   "toc_window_display": false
  }
 },
 "nbformat": 4,
 "nbformat_minor": 2
}
