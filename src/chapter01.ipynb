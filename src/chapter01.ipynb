{
 "cells": [
  {
   "cell_type": "markdown",
   "metadata": {
    "toc": true
   },
   "source": [
    "<h1>Table of Contents<span class=\"tocSkip\"></span></h1>\n",
    "<div class=\"toc\"><ul class=\"toc-item\"><li><span><a href=\"#Purpose\" data-toc-modified-id=\"Purpose-1\"><span class=\"toc-item-num\">1&nbsp;&nbsp;</span>Purpose</a></span></li><li><span><a href=\"#Prepare-Data-from-WebAPI\" data-toc-modified-id=\"Prepare-Data-from-WebAPI-2\"><span class=\"toc-item-num\">2&nbsp;&nbsp;</span>Prepare Data from WebAPI</a></span></li><li><span><a href=\"#Morphological-Analysis\" data-toc-modified-id=\"Morphological-Analysis-3\"><span class=\"toc-item-num\">3&nbsp;&nbsp;</span>Morphological Analysis</a></span></li><li><span><a href=\"#Visualization\" data-toc-modified-id=\"Visualization-4\"><span class=\"toc-item-num\">4&nbsp;&nbsp;</span>Visualization</a></span><ul class=\"toc-item\"><li><span><a href=\"#Generating-WordCloud\" data-toc-modified-id=\"Generating-WordCloud-4.1\"><span class=\"toc-item-num\">4.1&nbsp;&nbsp;</span>Generating WordCloud</a></span></li><li><span><a href=\"#Features-of-Morphological-Analysis\" data-toc-modified-id=\"Features-of-Morphological-Analysis-4.2\"><span class=\"toc-item-num\">4.2&nbsp;&nbsp;</span>Features of Morphological Analysis</a></span></li></ul></li><li><span><a href=\"#Conclusion\" data-toc-modified-id=\"Conclusion-5\"><span class=\"toc-item-num\">5&nbsp;&nbsp;</span>Conclusion</a></span></li></ul></div>"
   ]
  },
  {
   "cell_type": "markdown",
   "metadata": {},
   "source": [
    "# Purpose"
   ]
  },
  {
   "cell_type": "markdown",
   "metadata": {},
   "source": [
    "This shows how to handle Japanese with a probable use case.\n",
    "The use case is to fetch data from WebAPI and to process them, then visualize the results.\n",
    "So the following will be described.\n",
    "\n",
    "* Get json data from WebAPI\n",
    "* Confirm real world responses from WebAPI\n",
    "* Tokenize Japanese with Morphological Analyzer\n",
    "* Visualize characteristic words with generating WordCloud and Graph\n",
    "\n",
    "As a first step, this notebook does not dig down each steps. "
   ]
  },
  {
   "cell_type": "markdown",
   "metadata": {},
   "source": [
    "# Prepare Data from WebAPI"
   ]
  },
  {
   "cell_type": "code",
   "execution_count": 1,
   "metadata": {},
   "outputs": [],
   "source": [
    "import requests\n",
    "\n",
    "# API Document: https://dev.syosetu.com/man/api/\n",
    "NAROU_API_URL = \"https://api.syosetu.com/novelapi/api\"\n",
    "payload = {'out': \"json\",\n",
    "           'lim': 100}\n",
    "\n",
    "response = requests.get(NAROU_API_URL, payload)"
   ]
  },
  {
   "cell_type": "code",
   "execution_count": 2,
   "metadata": {},
   "outputs": [
    {
     "data": {
      "text/plain": [
       "[{'allcount': 674376},\n",
       " {'title': 'ある日の風景',\n",
       "  'ncode': 'N9736FR',\n",
       "  'userid': 1588982,\n",
       "  'writer': '風向',\n",
       "  'story': 'ただの日常を書いたもので、\\nそんな大したものではありません。',\n",
       "  'biggenre': 3,\n",
       "  'genre': 301,\n",
       "  'gensaku': '',\n",
       "  'keyword': '初恋 想う',\n",
       "  'general_firstup': '2019-08-19 17:47:17',\n",
       "  'general_lastup': '2019-08-19 17:47:17',\n",
       "  'novel_type': 2,\n",
       "  'end': 0,\n",
       "  'general_all_no': 1,\n",
       "  'length': 792,\n",
       "  'time': 2,\n",
       "  'isstop': 0,\n",
       "  'isr15': 0,\n",
       "  'isbl': 0,\n",
       "  'isgl': 0,\n",
       "  'iszankoku': 0,\n",
       "  'istensei': 0,\n",
       "  'istenni': 0,\n",
       "  'pc_or_k': 2,\n",
       "  'global_point': 0,\n",
       "  'fav_novel_cnt': 0,\n",
       "  'review_cnt': 0,\n",
       "  'all_point': 0,\n",
       "  'all_hyoka_cnt': 0,\n",
       "  'sasie_cnt': 0,\n",
       "  'kaiwaritu': 92,\n",
       "  'novelupdated_at': '2019-08-19 17:47:17',\n",
       "  'updated_at': '2019-08-19 17:50:14'},\n",
       " {'title': '吸血鬼の佐藤くんは少し様子がおかしい。',\n",
       "  'ncode': 'N0743FR',\n",
       "  'userid': 1066747,\n",
       "  'writer': '青色\\u3000黄色',\n",
       "  'story': '同級生の男子の太ももに吸い付いたちょっとおかしな高校生、東島葵はカウンセラーの先生に騙されて？田舎町の学校へと転校する。\\n\\nちょっとおかしな先生や同級生たちと一緒に次こそ失敗しないようにと意気込む葵。\\n\\nしかし、突然前の席の男子、佐藤桐人に首筋を噛まれてびっくり！\\n\\n町の人たちからはゾンビ呼ばわりされ、その元凶となった桐人はだんだん様子が変化していく。\\n\\n新たな生活、果たして葵は今度こそうまく暮らせるのか！？',\n",
       "  'biggenre': 2,\n",
       "  'genre': 202,\n",
       "  'gensaku': '',\n",
       "  'keyword': 'R15 日常 青春',\n",
       "  'general_firstup': '2019-08-02 14:30:05',\n",
       "  'general_lastup': '2019-08-19 17:47:00',\n",
       "  'novel_type': 1,\n",
       "  'end': 1,\n",
       "  'general_all_no': 3,\n",
       "  'length': 6400,\n",
       "  'time': 13,\n",
       "  'isstop': 0,\n",
       "  'isr15': 1,\n",
       "  'isbl': 0,\n",
       "  'isgl': 0,\n",
       "  'iszankoku': 0,\n",
       "  'istensei': 0,\n",
       "  'istenni': 0,\n",
       "  'pc_or_k': 2,\n",
       "  'global_point': 0,\n",
       "  'fav_novel_cnt': 0,\n",
       "  'review_cnt': 0,\n",
       "  'all_point': 0,\n",
       "  'all_hyoka_cnt': 0,\n",
       "  'sasie_cnt': 0,\n",
       "  'kaiwaritu': 36,\n",
       "  'novelupdated_at': '2019-08-19 17:47:00',\n",
       "  'updated_at': '2019-08-19 17:50:13'}]"
      ]
     },
     "execution_count": 2,
     "metadata": {},
     "output_type": "execute_result"
    }
   ],
   "source": [
    "response.json()[:3]"
   ]
  },
  {
   "cell_type": "code",
   "execution_count": 3,
   "metadata": {},
   "outputs": [],
   "source": [
    "texts = [novel['story'] for novel in response.json()[1:]]"
   ]
  },
  {
   "cell_type": "markdown",
   "metadata": {},
   "source": [
    "Check converted data. It contains ¥u3000 but do not be worried. ¥u3000 represents a full-width space.\n",
    "The following helps to understand this meaning."
   ]
  },
  {
   "cell_type": "code",
   "execution_count": 4,
   "metadata": {},
   "outputs": [
    {
     "data": {
      "text/plain": [
       "['ただの日常を書いたもので、\\nそんな大したものではありません。',\n",
       " '同級生の男子の太ももに吸い付いたちょっとおかしな高校生、東島葵はカウンセラーの先生に騙されて？田舎町の学校へと転校する。\\n\\nちょっとおかしな先生や同級生たちと一緒に次こそ失敗しないようにと意気込む葵。\\n\\nしかし、突然前の席の男子、佐藤桐人に首筋を噛まれてびっくり！\\n\\n町の人たちからはゾンビ呼ばわりされ、その元凶となった桐人はだんだん様子が変化していく。\\n\\n新たな生活、果たして葵は今度こそうまく暮らせるのか！？']"
      ]
     },
     "execution_count": 4,
     "metadata": {},
     "output_type": "execute_result"
    }
   ],
   "source": [
    "texts[:2]"
   ]
  },
  {
   "cell_type": "code",
   "execution_count": 5,
   "metadata": {},
   "outputs": [
    {
     "data": {
      "text/plain": [
       "['\\u3000目覚めたら、ケモノになっちゃった。\\n\\n\\u3000転生し私に待ち受けていたのは犬のような猫のような魔物の身体だった！\\n\\u3000魔術があり魔物のいる世界に転生した私は今度こそ殺されず生き延びるために&quot;無敵&quot;へと手を伸ばす……\\n\\u3000運命を覆すための異世界転生ハイファンタジー！\\u3000生き続ける先に何が待ち受けるのか？\\n\\u3000土器を作りだしたり陰謀に巻き込まれたり更には邪悪な敵と戦うために進化する！\\n\\n（追加キーワード用:ファンタジー\\u3000モンスター主人公）',\n",
       " '\\u3000ダンジョン作り&amp;バトル\\n\\u3000人類に敗北し良いように扱われていたダンジョンマスターが、魔法実験のミスにより雨宮アユムに憑依される。魔族と人類に絶望的なまでの戦力差がある異世界にて、アユムはダンジョンマスターとして奮闘する。']"
      ]
     },
     "execution_count": 5,
     "metadata": {},
     "output_type": "execute_result"
    }
   ],
   "source": [
    "[text for text in texts if \"　\" in text][:2]"
   ]
  },
  {
   "cell_type": "code",
   "execution_count": 6,
   "metadata": {},
   "outputs": [
    {
     "data": {
      "text/plain": [
       "[]"
      ]
     },
     "execution_count": 6,
     "metadata": {},
     "output_type": "execute_result"
    }
   ],
   "source": [
    "[text for text in texts if \"3000\" in text][:2]"
   ]
  },
  {
   "cell_type": "code",
   "execution_count": null,
   "metadata": {},
   "outputs": [],
   "source": []
  },
  {
   "cell_type": "markdown",
   "metadata": {},
   "source": [
    "# Morphological Analysis"
   ]
  },
  {
   "cell_type": "code",
   "execution_count": null,
   "metadata": {},
   "outputs": [],
   "source": []
  },
  {
   "cell_type": "code",
   "execution_count": 7,
   "metadata": {},
   "outputs": [],
   "source": [
    "from janome.tokenizer import Tokenizer\n",
    "from janome.analyzer import Analyzer\n",
    "from janome.tokenfilter import POSKeepFilter\n",
    "from janome.tokenfilter import CompoundNounFilter\n",
    "from janome.tokenfilter import LowerCaseFilter\n",
    "\n",
    "tokenizer = Tokenizer()\n",
    "token_filters = [CompoundNounFilter(), POSKeepFilter([\"名詞\"]),\n",
    "                 LowerCaseFilter()]\n",
    "analyzer = Analyzer(tokenizer=tokenizer, token_filters=token_filters)\n",
    "\n",
    "\n",
    "def analyze(analyzer: Analyzer, text: str):\n",
    "    return [(x.surface, x.part_of_speech) for x in analyzer.analyze(text)]"
   ]
  },
  {
   "cell_type": "code",
   "execution_count": 8,
   "metadata": {},
   "outputs": [],
   "source": [
    "from functools import partial\n",
    "\n",
    "custom_analyze = partial(analyze, analyzer)"
   ]
  },
  {
   "cell_type": "code",
   "execution_count": 9,
   "metadata": {},
   "outputs": [],
   "source": [
    "tokenized_texts = list(map(custom_analyze, texts))"
   ]
  },
  {
   "cell_type": "code",
   "execution_count": 10,
   "metadata": {},
   "outputs": [
    {
     "data": {
      "text/plain": [
       "[[('ただ', '名詞,一般,*,*'),\n",
       "  ('日常', '名詞,一般,*,*'),\n",
       "  ('もの', '名詞,非自立,一般,*'),\n",
       "  ('もの', '名詞,非自立,一般,*')],\n",
       " [('同級生', '名詞,一般,*,*'),\n",
       "  ('男子', '名詞,一般,*,*'),\n",
       "  ('太もも', '名詞,一般,*,*'),\n",
       "  ('高校生', '名詞,一般,*,*'),\n",
       "  ('東島葵', '名詞,複合,*,*'),\n",
       "  ('カウンセラー', '名詞,一般,*,*'),\n",
       "  ('先生', '名詞,一般,*,*'),\n",
       "  ('田舎町', '名詞,一般,*,*'),\n",
       "  ('学校', '名詞,一般,*,*'),\n",
       "  ('転校', '名詞,サ変接続,*,*'),\n",
       "  ('先生', '名詞,一般,*,*'),\n",
       "  ('同級生たち', '名詞,複合,*,*'),\n",
       "  ('一緒', '名詞,サ変接続,*,*'),\n",
       "  ('次', '名詞,一般,*,*'),\n",
       "  ('失敗', '名詞,サ変接続,*,*'),\n",
       "  ('よう', '名詞,非自立,助動詞語幹,*'),\n",
       "  ('葵', '名詞,一般,*,*'),\n",
       "  ('前', '名詞,副詞可能,*,*'),\n",
       "  ('席', '名詞,一般,*,*'),\n",
       "  ('男子', '名詞,一般,*,*'),\n",
       "  ('佐藤桐人', '名詞,複合,*,*'),\n",
       "  ('首筋', '名詞,一般,*,*'),\n",
       "  ('びっくり', '名詞,サ変接続,*,*'),\n",
       "  ('町', '名詞,一般,*,*'),\n",
       "  ('人たち', '名詞,複合,*,*'),\n",
       "  ('ゾンビ呼ばわり', '名詞,複合,*,*'),\n",
       "  ('元凶', '名詞,一般,*,*'),\n",
       "  ('桐人', '名詞,複合,*,*'),\n",
       "  ('様子', '名詞,一般,*,*'),\n",
       "  ('変化', '名詞,サ変接続,*,*'),\n",
       "  ('新た', '名詞,形容動詞語幹,*,*'),\n",
       "  ('生活', '名詞,サ変接続,*,*'),\n",
       "  ('葵', '名詞,一般,*,*'),\n",
       "  ('今度', '名詞,副詞可能,*,*'),\n",
       "  ('の', '名詞,非自立,一般,*')],\n",
       " [('お金', '名詞,一般,*,*'),\n",
       "  ('世界', '名詞,一般,*,*'),\n",
       "  ('世界', '名詞,一般,*,*'),\n",
       "  ('そこ', '名詞,代名詞,一般,*'),\n",
       "  ('はず', '名詞,非自立,一般,*')],\n",
       " [('騎士一家', '名詞,複合,*,*'),\n",
       "  ('あだ名', '名詞,一般,*,*'),\n",
       "  ('メスゴリラ', '名詞,複合,*,*'),\n",
       "  ('戦闘バカ', '名詞,複合,*,*'),\n",
       "  ('ヒロイン', '名詞,一般,*,*'),\n",
       "  ('アリス', '名詞,固有名詞,人名,名'),\n",
       "  ('王子', '名詞,一般,*,*'),\n",
       "  ('王子', '名詞,固有名詞,地域,一般'),\n",
       "  ('騎士', '名詞,一般,*,*'),\n",
       "  ('妻', '名詞,一般,*,*'),\n",
       "  ('勧誘', '名詞,サ変接続,*,*'),\n",
       "  ('話', '名詞,サ変接続,*,*'),\n",
       "  ('剣', '名詞,一般,*,*'),\n",
       "  ('魔法', '名詞,一般,*,*'),\n",
       "  ('世界', '名詞,一般,*,*'),\n",
       "  ('ヒロイン', '名詞,一般,*,*'),\n",
       "  ('メスゴリラ', '名詞,複合,*,*')],\n",
       " [('ケモノ', '名詞,一般,*,*'),\n",
       "  ('転生', '名詞,サ変接続,*,*'),\n",
       "  ('私', '名詞,代名詞,一般,*'),\n",
       "  ('の', '名詞,非自立,一般,*'),\n",
       "  ('犬', '名詞,一般,*,*'),\n",
       "  ('よう', '名詞,非自立,助動詞語幹,*'),\n",
       "  ('猫', '名詞,一般,*,*'),\n",
       "  ('よう', '名詞,非自立,助動詞語幹,*'),\n",
       "  ('魔物', '名詞,一般,*,*'),\n",
       "  ('身体', '名詞,一般,*,*'),\n",
       "  ('魔術', '名詞,一般,*,*'),\n",
       "  ('魔物', '名詞,一般,*,*'),\n",
       "  ('世界', '名詞,一般,*,*'),\n",
       "  ('転生', '名詞,サ変接続,*,*'),\n",
       "  ('私', '名詞,代名詞,一般,*'),\n",
       "  ('今度', '名詞,副詞可能,*,*'),\n",
       "  ('ため', '名詞,非自立,副詞可能,*'),\n",
       "  ('&quot;無敵&quot;', '名詞,複合,*,*'),\n",
       "  ('手', '名詞,一般,*,*'),\n",
       "  ('運命', '名詞,一般,*,*'),\n",
       "  ('ため', '名詞,非自立,副詞可能,*'),\n",
       "  ('世界転生ハイファンタジー', '名詞,複合,*,*'),\n",
       "  ('先', '名詞,一般,*,*'),\n",
       "  ('何', '名詞,代名詞,一般,*'),\n",
       "  ('の', '名詞,非自立,一般,*'),\n",
       "  ('土器', '名詞,一般,*,*'),\n",
       "  ('陰謀', '名詞,一般,*,*'),\n",
       "  ('更', '名詞,形容動詞語幹,*,*'),\n",
       "  ('邪悪', '名詞,形容動詞語幹,*,*'),\n",
       "  ('敵', '名詞,一般,*,*'),\n",
       "  ('ため', '名詞,非自立,副詞可能,*'),\n",
       "  ('進化', '名詞,サ変接続,*,*'),\n",
       "  ('追加キーワード用:ファンタジー', '名詞,複合,*,*'),\n",
       "  ('モンスター主人公', '名詞,複合,*,*')]]"
      ]
     },
     "execution_count": 10,
     "metadata": {},
     "output_type": "execute_result"
    }
   ],
   "source": [
    "tokenized_texts[:5]"
   ]
  },
  {
   "cell_type": "code",
   "execution_count": 11,
   "metadata": {},
   "outputs": [],
   "source": [
    "from itertools import chain\n",
    "\n",
    "\n",
    "chain.from_iterable(tokenized_texts)\n",
    "words = list(chain.from_iterable(tokenized_texts))"
   ]
  },
  {
   "cell_type": "code",
   "execution_count": 12,
   "metadata": {},
   "outputs": [
    {
     "data": {
      "text/plain": [
       "[('ただ', '名詞,一般,*,*'),\n",
       " ('日常', '名詞,一般,*,*'),\n",
       " ('もの', '名詞,非自立,一般,*'),\n",
       " ('もの', '名詞,非自立,一般,*'),\n",
       " ('同級生', '名詞,一般,*,*')]"
      ]
     },
     "execution_count": 12,
     "metadata": {},
     "output_type": "execute_result"
    }
   ],
   "source": [
    "words[:5]"
   ]
  },
  {
   "cell_type": "code",
   "execution_count": 13,
   "metadata": {},
   "outputs": [
    {
     "data": {
      "text/plain": [
       "['佐藤桐人',\n",
       " '人たち',\n",
       " '桐人',\n",
       " 'モンスター主人公',\n",
       " '人類',\n",
       " '人類',\n",
       " '社会人',\n",
       " '人間関係',\n",
       " '人生',\n",
       " '人々',\n",
       " '人数',\n",
       " '世界人',\n",
       " '半人半魔',\n",
       " 'シズル本人',\n",
       " '１人',\n",
       " '二人',\n",
       " '２人',\n",
       " '人々',\n",
       " '人',\n",
       " '通称魔人',\n",
       " '人間',\n",
       " '魔人',\n",
       " '魔人',\n",
       " '人間',\n",
       " '一人',\n",
       " '一人',\n",
       " '人',\n",
       " '人',\n",
       " '人',\n",
       " '人間',\n",
       " '男女五人',\n",
       " '一人',\n",
       " '幾人',\n",
       " '凡人達',\n",
       " '人',\n",
       " '24人',\n",
       " '男子14人',\n",
       " '女子10人',\n",
       " '主人公',\n",
       " '主人公',\n",
       " '主人公',\n",
       " '主人公',\n",
       " '主人公',\n",
       " '主人公',\n",
       " '人',\n",
       " '主人公',\n",
       " '二人',\n",
       " '主人公',\n",
       " '主人公',\n",
       " '一人',\n",
       " '主人公',\n",
       " '主人公',\n",
       " '主人公',\n",
       " '友人',\n",
       " '人',\n",
       " '人生',\n",
       " '人生',\n",
       " '亜人達',\n",
       " '人間',\n",
       " '人間',\n",
       " '二人三脚',\n",
       " '二人',\n",
       " '人生',\n",
       " '人間',\n",
       " '人間',\n",
       " '人間',\n",
       " '人間',\n",
       " '人間',\n",
       " '一人',\n",
       " '人',\n",
       " '主人公',\n",
       " '一人',\n",
       " '人々',\n",
       " '人並み',\n",
       " '恋人',\n",
       " '人気',\n",
       " '人',\n",
       " '一人',\n",
       " '主人公',\n",
       " '二人',\n",
       " '二人',\n",
       " '友人',\n",
       " '2人',\n",
       " '主人公',\n",
       " '人',\n",
       " '主人公義太',\n",
       " '人',\n",
       " '隣人',\n",
       " '主人様',\n",
       " '苦労人',\n",
       " '使用人',\n",
       " '一人令嬢ユリア',\n",
       " '三人',\n",
       " '友人',\n",
       " '二人',\n",
       " '人',\n",
       " '人生',\n",
       " 'ただ一人',\n",
       " '一人',\n",
       " 'ため自分一人',\n",
       " '人見知り',\n",
       " '主人公',\n",
       " '主人公',\n",
       " '新人バイト',\n",
       " '友人',\n",
       " '人生',\n",
       " '主人公坂本雄一',\n",
       " '主人公',\n",
       " '職人',\n",
       " '超人集団sクラス',\n",
       " '人間',\n",
       " '一人',\n",
       " '管理人',\n",
       " '管理人さん',\n",
       " '他人',\n",
       " '二人',\n",
       " '一人',\n",
       " '主人公',\n",
       " '主人公',\n",
       " '日本人',\n",
       " '人',\n",
       " '御影悠人(ミカゲユウト)。',\n",
       " '壊人',\n",
       " '人',\n",
       " '人類',\n",
       " '主人公',\n",
       " '主人公',\n",
       " '主人公',\n",
       " '一人',\n",
       " '主人公',\n",
       " '二人',\n",
       " '人々',\n",
       " '人間関係',\n",
       " '登場人物',\n",
       " '主人公たち',\n",
       " '本人',\n",
       " '人生',\n",
       " '二人',\n",
       " '登場人物たち',\n",
       " '人間ドラマ',\n",
       " '個人サイト・カクヨム様',\n",
       " '人々',\n",
       " '蔵人',\n",
       " '旅人',\n",
       " '一人孤独',\n",
       " '王国王子３人',\n",
       " '内１人',\n",
       " '３人',\n",
       " '人間',\n",
       " '人達',\n",
       " '人',\n",
       " '一人',\n",
       " '1人',\n",
       " '人生',\n",
       " '商人',\n",
       " '主人公',\n",
       " '5人',\n",
       " '5人以外',\n",
       " '依頼人',\n",
       " '人物',\n",
       " '人間',\n",
       " '主人公イリ・ジウム',\n",
       " '奴隷商人',\n",
       " '二人',\n",
       " '主人公',\n",
       " '１００人',\n",
       " '主人公タナカトウシ']"
      ]
     },
     "execution_count": 13,
     "metadata": {},
     "output_type": "execute_result"
    }
   ],
   "source": [
    "[surface for surface, _ in words if \"人\" in surface]"
   ]
  },
  {
   "cell_type": "code",
   "execution_count": null,
   "metadata": {},
   "outputs": [],
   "source": []
  },
  {
   "cell_type": "code",
   "execution_count": 14,
   "metadata": {},
   "outputs": [
    {
     "data": {
      "text/plain": [
       "[]"
      ]
     },
     "execution_count": 14,
     "metadata": {},
     "output_type": "execute_result"
    }
   ],
   "source": [
    "[surface for surface, _ in words if \"　\" in surface]"
   ]
  },
  {
   "cell_type": "code",
   "execution_count": null,
   "metadata": {},
   "outputs": [],
   "source": []
  },
  {
   "cell_type": "code",
   "execution_count": 15,
   "metadata": {},
   "outputs": [],
   "source": [
    "# instead of TokenCounterFilter, collections.Counter can be used\n",
    "# https://mocobeta.github.io/janome/#analyzer-v0-3-5\n",
    "from collections import Counter\n",
    "surface_counter = Counter(x[0] for x in words)"
   ]
  },
  {
   "cell_type": "markdown",
   "metadata": {},
   "source": [
    "# Visualization"
   ]
  },
  {
   "cell_type": "markdown",
   "metadata": {},
   "source": [
    "## Generating WordCloud"
   ]
  },
  {
   "cell_type": "code",
   "execution_count": null,
   "metadata": {},
   "outputs": [],
   "source": []
  },
  {
   "cell_type": "code",
   "execution_count": 16,
   "metadata": {},
   "outputs": [],
   "source": [
    "from matplotlib import pyplot as plt\n",
    "from wordcloud import WordCloud\n",
    "# %matplotlib inline\n",
    "\n",
    "wordcloud = WordCloud(width=800, height=400,\n",
    "                      font_path=\"/System/Library/Fonts/Hiragino Sans GB.ttc\")"
   ]
  },
  {
   "cell_type": "code",
   "execution_count": 17,
   "metadata": {
    "scrolled": true
   },
   "outputs": [
    {
     "data": {
      "text/plain": [
       "<matplotlib.image.AxesImage at 0x11da2d0f0>"
      ]
     },
     "execution_count": 17,
     "metadata": {},
     "output_type": "execute_result"
    },
    {
     "data": {
      "image/png": "[encoded data removed]",
      "text/plain": [
       "<Figure size 432x288 with 1 Axes>"
      ]
     },
     "metadata": {
      "needs_background": "light"
     },
     "output_type": "display_data"
    }
   ],
   "source": [
    "plt.imshow(wordcloud.generate_from_frequencies(surface_counter))"
   ]
  },
  {
   "cell_type": "markdown",
   "metadata": {},
   "source": [
    "## Features of Morphological Analysis"
   ]
  },
  {
   "cell_type": "code",
   "execution_count": null,
   "metadata": {},
   "outputs": [],
   "source": []
  },
  {
   "cell_type": "code",
   "execution_count": null,
   "metadata": {},
   "outputs": [],
   "source": []
  },
  {
   "cell_type": "code",
   "execution_count": null,
   "metadata": {},
   "outputs": [],
   "source": []
  },
  {
   "cell_type": "code",
   "execution_count": 18,
   "metadata": {},
   "outputs": [
    {
     "data": {
      "text/plain": [
       "[('世界', 75),\n",
       " ('の', 60),\n",
       " ('こと', 57),\n",
       " ('力', 33),\n",
       " ('ため', 32),\n",
       " ('彼', 32),\n",
       " ('物語', 29),\n",
       " ('事', 26),\n",
       " ('主人公', 26),\n",
       " ('僕', 24)]"
      ]
     },
     "execution_count": 18,
     "metadata": {},
     "output_type": "execute_result"
    },
    {
     "data": {
      "image/png": "[encoded data removed]",
      "text/plain": [
       "<Figure size 432x288 with 1 Axes>"
      ]
     },
     "metadata": {
      "needs_background": "light"
     },
     "output_type": "display_data"
    }
   ],
   "source": [
    "num_of_bins = 10\n",
    "plt.hist(surface_counter.values(), log=True, bins=num_of_bins)\n",
    "surface_counter.most_common(10)"
   ]
  },
  {
   "cell_type": "code",
   "execution_count": 19,
   "metadata": {},
   "outputs": [
    {
     "data": {
      "text/plain": [
       "<BarContainer object of 10 artists>"
      ]
     },
     "execution_count": 19,
     "metadata": {},
     "output_type": "execute_result"
    },
    {
     "data": {
      "image/png": "[encoded data removed]",
      "text/plain": [
       "<Figure size 432x288 with 1 Axes>"
      ]
     },
     "metadata": {
      "needs_background": "light"
     },
     "output_type": "display_data"
    }
   ],
   "source": [
    "surfaces, frequencies = zip(*surface_counter.most_common(10))\n",
    "plt.barh(surfaces, frequencies)"
   ]
  },
  {
   "cell_type": "code",
   "execution_count": 20,
   "metadata": {},
   "outputs": [
    {
     "data": {
      "text/plain": [
       "<BarContainer object of 10 artists>"
      ]
     },
     "execution_count": 20,
     "metadata": {},
     "output_type": "execute_result"
    },
    {
     "data": {
      "image/png": "[encoded data removed]",
      "text/plain": [
       "<Figure size 432x288 with 1 Axes>"
      ]
     },
     "metadata": {
      "needs_background": "light"
     },
     "output_type": "display_data"
    }
   ],
   "source": [
    "part_of_speech_counter = Counter(x[1] for x in words)\n",
    "part_of_speeches, frequencies = zip(*part_of_speech_counter.most_common(10))\n",
    "plt.barh(part_of_speeches, frequencies)"
   ]
  },
  {
   "cell_type": "markdown",
   "metadata": {},
   "source": [
    "# Conclusion"
   ]
  },
  {
   "cell_type": "markdown",
   "metadata": {},
   "source": [
    "\n",
    "So next notebook will focus on fetch data from narou-api.\n",
    "Narou-api does not support cursor and so on. It means it makes difficult to fetch entire data. It needs to change many detailed queries to fetch entire data properly.  (narou-api at 2019-08-18)\n",
    "\n"
   ]
  },
  {
   "cell_type": "code",
   "execution_count": null,
   "metadata": {},
   "outputs": [],
   "source": []
  },
  {
   "cell_type": "code",
   "execution_count": null,
   "metadata": {},
   "outputs": [],
   "source": []
  },
  {
   "cell_type": "code",
   "execution_count": null,
   "metadata": {},
   "outputs": [],
   "source": []
  },
  {
   "cell_type": "code",
   "execution_count": null,
   "metadata": {},
   "outputs": [],
   "source": []
  },
  {
   "cell_type": "code",
   "execution_count": null,
   "metadata": {},
   "outputs": [],
   "source": []
  }
 ],
 "metadata": {
  "kernelspec": {
   "display_name": "Python 3",
   "language": "python",
   "name": "python3"
  },
  "language_info": {
   "codemirror_mode": {
    "name": "ipython",
    "version": 3
   },
   "file_extension": ".py",
   "mimetype": "text/x-python",
   "name": "python",
   "nbconvert_exporter": "python",
   "pygments_lexer": "ipython3",
   "version": "3.7.1"
  },
  "toc": {
   "base_numbering": 1,
   "nav_menu": {},
   "number_sections": true,
   "sideBar": true,
   "skip_h1_title": false,
   "title_cell": "Table of Contents",
   "title_sidebar": "Contents",
   "toc_cell": true,
   "toc_position": {},
   "toc_section_display": true,
   "toc_window_display": false
  }
 },
 "nbformat": 4,
 "nbformat_minor": 2
}
